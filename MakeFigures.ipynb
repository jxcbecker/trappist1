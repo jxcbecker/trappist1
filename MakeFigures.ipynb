{
 "cells": [
  {
   "cell_type": "markdown",
   "metadata": {},
   "source": [
    "# This notebook\n",
    "The purpose of this notebook is to generate all the plots (and some supplementary plots) for Becker, Gallo et al. (submitted). All the needed supplementary code and data files are included in this GitHub repository. \n"
   ]
  },
  {
   "cell_type": "code",
   "execution_count": 1,
   "metadata": {},
   "outputs": [
    {
     "name": "stdout",
     "output_type": "stream",
     "text": [
      "Populating the interactive namespace from numpy and matplotlib\n"
     ]
    }
   ],
   "source": [
    "%pylab inline\n",
    "from astropy.io import fits\n",
    "import pandas as pd\n",
    "import glob\n",
    "import os\n",
    "import trappist_machine\n",
    "import scipy.interpolate"
   ]
  },
  {
   "cell_type": "code",
   "execution_count": 2,
   "metadata": {},
   "outputs": [],
   "source": [
    "# set up file paths - for other users, these will need to be updated!\n",
    "current_dir = '/Users/jcbecker/Documents/GitHub/trappist1/'\n",
    "assorteddata = '/Users/jcbecker/Documents/GitHub/trappist1/AssortedData/'\n",
    "extraFigures = '/Users/jcbecker/Documents/GitHub/trappist1/ExtraFigures/'\n",
    "paperFigures = '/Users/jcbecker/Documents/GitHub/trappist1/PaperFigures/'\n",
    "\n",
    "# set up other variables to save time\n",
    "regen_Q_values = False # if true, re-create the file used for the k/Q constraints. Takes a while to run!"
   ]
  },
  {
   "cell_type": "markdown",
   "metadata": {},
   "source": [
    "# Import data\n",
    "\n",
    "The orbital parameters used in this analysis come from [Grimm et al. 2018](https://www.aanda.org/articles/aa/full_html/2018/05/aa32233-17/T3.html). We won't be running Monte Carlo sims over the errors in this paper, so we will import the best fit values of each parameter. \n",
    "\n"
   ]
  },
  {
   "cell_type": "code",
   "execution_count": 3,
   "metadata": {},
   "outputs": [
    {
     "data": {
      "text/html": [
       "<div>\n",
       "<style>\n",
       "    .dataframe thead tr:only-child th {\n",
       "        text-align: right;\n",
       "    }\n",
       "\n",
       "    .dataframe thead th {\n",
       "        text-align: left;\n",
       "    }\n",
       "\n",
       "    .dataframe tbody tr th {\n",
       "        vertical-align: top;\n",
       "    }\n",
       "</style>\n",
       "<table border=\"1\" class=\"dataframe\">\n",
       "  <thead>\n",
       "    <tr style=\"text-align: right;\">\n",
       "      <th></th>\n",
       "      <th>Planet</th>\n",
       "      <th>Mass(Mearth)</th>\n",
       "      <th>Radius(Rearth)</th>\n",
       "      <th>Period(days)</th>\n",
       "      <th>a(AU)</th>\n",
       "      <th>e</th>\n",
       "      <th>i(deg)</th>\n",
       "    </tr>\n",
       "  </thead>\n",
       "  <tbody>\n",
       "    <tr>\n",
       "      <th>0</th>\n",
       "      <td>TRAPPIST-1 h</td>\n",
       "      <td>0.331</td>\n",
       "      <td>0.773</td>\n",
       "      <td>18.767953</td>\n",
       "      <td>0.061935</td>\n",
       "      <td>0.00567</td>\n",
       "      <td>89.80</td>\n",
       "    </tr>\n",
       "    <tr>\n",
       "      <th>1</th>\n",
       "      <td>TRAPPIST-1 g</td>\n",
       "      <td>1.148</td>\n",
       "      <td>1.148</td>\n",
       "      <td>12.354473</td>\n",
       "      <td>0.046877</td>\n",
       "      <td>0.00208</td>\n",
       "      <td>89.71</td>\n",
       "    </tr>\n",
       "    <tr>\n",
       "      <th>2</th>\n",
       "      <td>TRAPPIST-1 f</td>\n",
       "      <td>0.934</td>\n",
       "      <td>1.046</td>\n",
       "      <td>9.205585</td>\n",
       "      <td>0.038534</td>\n",
       "      <td>0.01007</td>\n",
       "      <td>89.68</td>\n",
       "    </tr>\n",
       "    <tr>\n",
       "      <th>3</th>\n",
       "      <td>TRAPPIST-1 e</td>\n",
       "      <td>0.772</td>\n",
       "      <td>0.910</td>\n",
       "      <td>6.099043</td>\n",
       "      <td>0.029283</td>\n",
       "      <td>0.00510</td>\n",
       "      <td>89.86</td>\n",
       "    </tr>\n",
       "    <tr>\n",
       "      <th>4</th>\n",
       "      <td>TRAPPIST-1 d</td>\n",
       "      <td>0.297</td>\n",
       "      <td>0.784</td>\n",
       "      <td>4.049959</td>\n",
       "      <td>0.022280</td>\n",
       "      <td>0.00837</td>\n",
       "      <td>89.75</td>\n",
       "    </tr>\n",
       "    <tr>\n",
       "      <th>5</th>\n",
       "      <td>TRAPPIST-1 c</td>\n",
       "      <td>1.156</td>\n",
       "      <td>1.095</td>\n",
       "      <td>2.421807</td>\n",
       "      <td>0.015815</td>\n",
       "      <td>0.00654</td>\n",
       "      <td>89.67</td>\n",
       "    </tr>\n",
       "    <tr>\n",
       "      <th>6</th>\n",
       "      <td>TRAPPIST-1 b</td>\n",
       "      <td>1.017</td>\n",
       "      <td>1.121</td>\n",
       "      <td>1.510876</td>\n",
       "      <td>0.011548</td>\n",
       "      <td>0.00622</td>\n",
       "      <td>89.65</td>\n",
       "    </tr>\n",
       "  </tbody>\n",
       "</table>\n",
       "</div>"
      ],
      "text/plain": [
       "         Planet  Mass(Mearth)  Radius(Rearth)  Period(days)     a(AU)  \\\n",
       "0  TRAPPIST-1 h         0.331           0.773     18.767953  0.061935   \n",
       "1  TRAPPIST-1 g         1.148           1.148     12.354473  0.046877   \n",
       "2  TRAPPIST-1 f         0.934           1.046      9.205585  0.038534   \n",
       "3  TRAPPIST-1 e         0.772           0.910      6.099043  0.029283   \n",
       "4  TRAPPIST-1 d         0.297           0.784      4.049959  0.022280   \n",
       "5  TRAPPIST-1 c         1.156           1.095      2.421807  0.015815   \n",
       "6  TRAPPIST-1 b         1.017           1.121      1.510876  0.011548   \n",
       "\n",
       "         e  i(deg)  \n",
       "0  0.00567   89.80  \n",
       "1  0.00208   89.71  \n",
       "2  0.01007   89.68  \n",
       "3  0.00510   89.86  \n",
       "4  0.00837   89.75  \n",
       "5  0.00654   89.67  \n",
       "6  0.00622   89.65  "
      ]
     },
     "execution_count": 3,
     "metadata": {},
     "output_type": "execute_result"
    }
   ],
   "source": [
    "## trappist system data\n",
    "trappist1 = pd.read_csv(assorteddata + \"trappist_system_properties.csv\") # from Grimm+ 2018\n",
    "trappist1\n"
   ]
  },
  {
   "cell_type": "code",
   "execution_count": 4,
   "metadata": {},
   "outputs": [],
   "source": [
    "# define global truths about TRAPPIST-1\n",
    "\n",
    "dist = 12.1 # parsecs\n",
    "Rearth_to_Mjup = 0.08911498 # 1 earth radii is 0.08 Rjup\n",
    "trappist_lum = 0.000522 #solar luminosity, used value is bolometric. Visual luminosity is 0.00000373 L_sun. \n",
    "solar_lum = 3.848 * 10**33.0 # erg/sec\n",
    "mstar = 0.089 # solar masses\n"
   ]
  },
  {
   "cell_type": "markdown",
   "metadata": {},
   "source": [
    "# Plotting the lightcurve (UVOT)\n",
    "The 300 ks of SWIFT data is split into epochs at which the data was taken, and a flux estimate or upper limit is derived using heasoft software XSelect at each of those epochs. "
   ]
  },
  {
   "cell_type": "code",
   "execution_count": 5,
   "metadata": {},
   "outputs": [],
   "source": [
    "manual_lc = pd.read_csv(assorteddata + \"manual_LC.csv\")\n",
    "manual_lc['newtime_start'] = 51910 + (manual_lc['time_start'] ) / (60.* 60. *24.) # convert time to JD, since time units in SWIFT headers is funny.\n",
    "manual_lc['newtime_end'] = 51910 + (manual_lc['time_end'] ) / (60.* 60. *24.)\n"
   ]
  },
  {
   "cell_type": "code",
   "execution_count": 6,
   "metadata": {},
   "outputs": [
    {
     "data": {
      "text/plain": [
       "u'\\\\begin{tabular}{rrrr}\\n\\\\toprule\\n     obs\\\\_ID &  newtime\\\\_start &   newtime\\\\_end &   count \\\\\\\\\\n\\\\midrule\\n 10283001.0 &   58010.348779 &  58010.772233 &  0.0200 \\\\\\\\\\n 10283002.0 &   58095.975270 &  58096.984039 &  0.0220 \\\\\\\\\\n 10283003.0 &   58097.648316 &  58097.718778 &  0.0200 \\\\\\\\\\n 10283004.0 &   58103.413035 &  58103.811122 &  0.0180 \\\\\\\\\\n 10283005.0 &   58105.003031 &  58105.010428 &  0.0230 \\\\\\\\\\n 10283006.0 &   58113.704544 &  58113.986122 &  0.0230 \\\\\\\\\\n 10283007.0 &   58114.700832 &  58114.852095 &  0.0150 \\\\\\\\\\n 10283008.0 &   58117.955622 &  58118.306262 &  0.0120 \\\\\\\\\\n 10283009.0 &   58124.928569 &  58125.000012 &  0.0240 \\\\\\\\\\n 10283010.0 &   58126.323775 &  58126.405568 &  0.0200 \\\\\\\\\\n 10283011.0 &   58131.504108 &  58131.843762 &  0.0210 \\\\\\\\\\n 10283012.0 &   58133.164500 &  58133.298580 &  0.0260 \\\\\\\\\\n 10283013.0 &   58136.635220 &  58136.957650 &  0.0410 \\\\\\\\\\n 10283014.0 &   58236.915500 &  58236.994455 &  0.0240 \\\\\\\\\\n 10283015.0 &   58237.506675 &  58237.914594 &  0.0210 \\\\\\\\\\n 10283016.0 &   58243.298947 &  58243.560428 &  0.0540 \\\\\\\\\\n 10283017.0 &   58244.294514 &  58244.306260 &  0.0370 \\\\\\\\\\n 10283018.0 &   58250.925080 &  58251.000012 &  0.0300 \\\\\\\\\\n 10283019.0 &   58251.520821 &  58251.807649 &  0.0280 \\\\\\\\\\n 10283020.0 &   58257.901041 &  58257.988900 &  0.0270 \\\\\\\\\\n 10283021.0 &   58258.705638 &  58258.719456 &  0.0270 \\\\\\\\\\n 10283022.0 &   58264.806395 &  58265.626402 &  0.0240 \\\\\\\\\\n 10283023.0 &   58271.511782 &  58271.870845 &  0.0150 \\\\\\\\\\n 10283024.0 &   58278.021731 &  58278.770845 &  0.0130 \\\\\\\\\\n 10283025.0 &   58279.746508 &  58279.765983 &  0.0430 \\\\\\\\\\n 10283026.0 &   58285.594931 &  58286.000012 &  0.0180 \\\\\\\\\\n 10283027.0 &   58286.137720 &  58286.809734 &  0.0170 \\\\\\\\\\n 10283028.0 &   58287.314815 &  58287.314815 &  0.0330 \\\\\\\\\\n 10283029.0 &   58293.316351 &  58294.052806 &  0.0260 \\\\\\\\\\n 10283030.0 &   58296.417096 &  58296.969456 &  0.0190 \\\\\\\\\\n 10283031.0 &   58297.758323 &  58297.891678 &  0.0300 \\\\\\\\\\n 10283032.0 &   58298.756438 &  58299.959056 &  0.0260 \\\\\\\\\\n 10283034.0 &   58305.782756 &  58306.995150 &  0.0190 \\\\\\\\\\n 10283035.0 &   58307.048495 &  58307.923622 &  0.0190 \\\\\\\\\\n        NaN &   58264.806395 &  58264.806395 &  0.0072 \\\\\\\\\\n\\\\bottomrule\\n\\\\end{tabular}\\n'"
      ]
     },
     "execution_count": 6,
     "metadata": {},
     "output_type": "execute_result"
    }
   ],
   "source": [
    "# print table for the paper. The latex printout can be copy&pasted into the .tex draft. \n",
    "# If more data is added, rerun this and replace table in paper. \n",
    "print_cols = ['obs_ID', 'newtime_start', 'newtime_end','count']\n",
    "manual_lc.sort_values('obs_ID')[print_cols].to_latex(index = False)"
   ]
  },
  {
   "cell_type": "code",
   "execution_count": 7,
   "metadata": {},
   "outputs": [
    {
     "data": {
      "image/png": "[encoded data removed]",
      "text/plain": [
       "<matplotlib.figure.Figure at 0x1149c4d90>"
      ]
     },
     "metadata": {},
     "output_type": "display_data"
    }
   ],
   "source": [
    "# Plot the lightcurve for the paper\n",
    "\n",
    "idx = (manual_lc['detection_type'] != 'SUM') & pd.isnull(manual_lc['counterr']) & pd.notnull(manual_lc['count'])\n",
    "idx_witherrs = (manual_lc['detection_type'] != 'SUM') & pd.notnull(manual_lc['counterr']) & pd.notnull(manual_lc['count'])\n",
    "\n",
    "time_centers = np.true_divide(manual_lc.loc[idx]['time_end'].values - manual_lc.loc[idx]['time_start'].values, 2)\n",
    "idx2 = manual_lc['detection_type'] == 'SUM'\n",
    "\n",
    "\n",
    "xarr_sec = manual_lc.loc[idx]['time_start'].values + time_centers \n",
    "xarr = 51910 + (xarr_sec) / (60.* 60. *24.) # the 51910 figure is from: https://swift.gsfc.nasa.gov/analysis/suppl_uguide/time_guide.html\n",
    "xarr_err = time_centers / (60.* 60. *24.)\n",
    "yarr = manual_lc.loc[idx]['count'].values\n",
    "figsize(12,5)\n",
    "fig, ax1 = subplots()\n",
    "ax1.errorbar(xarr, yarr, xerr = xarr_err,\n",
    "         yerr = [np.mean(yarr)*0.3] * len(yarr), \n",
    "         uplims = 1, marker='.', color='grey', markersize = 15,linestyle = 'None')\n",
    "ax1.plot(np.linspace(58000, 58325, 10), \n",
    "     [manual_lc.loc[idx2]['count'].values[0]] * 10, linewidth=2.6, color='Orange')\n",
    "ax1.fill_between(np.linspace(58000, 58325, 10), \n",
    "             [manual_lc.loc[idx2]['count'].values[0] - manual_lc.loc[idx2]['counterr'].values[0]] * 10,\n",
    "             [manual_lc.loc[idx2]['count'].values[0] + manual_lc.loc[idx2]['counterr'].values[0]] * 10,\n",
    "             color='Orange', alpha=0.3)\n",
    "\n",
    "#\n",
    "#\n",
    "time_centers = np.true_divide(manual_lc.loc[idx_witherrs]['time_end'].values - manual_lc.loc[idx_witherrs]['time_start'].values, 2)\n",
    "xarr_sec = manual_lc.loc[idx_witherrs]['time_start'].values + time_centers \n",
    "xarr = 51910 + (xarr_sec) / (60.* 60. *24.)\n",
    "xarr_err = time_centers / (60.* 60. *24.)\n",
    "yarr = manual_lc.loc[idx_witherrs]['count'].values\n",
    "yarr_err = manual_lc.loc[idx_witherrs]['counterr'].values\n",
    "ax1.errorbar(xarr, yarr, xerr = xarr_err,\n",
    "         yerr = yarr_err, \n",
    "        marker='.', color='IndianRed', markersize = 15,linestyle = 'None')\n",
    "#\n",
    "#\n",
    "#\n",
    "\n",
    "ax1.set_xlim(58000, 58325)\n",
    "ax1.set_ylabel(\"SWIFT UVW2 \\n Corrected Rate (count/s)\", fontsize=17)\n",
    "ax1.set_xlabel(\"Time, MJD (JD - 2400000.5)\", fontsize=17) #MJD not BJD - see SWIFT website above\n",
    "\n",
    "# make the limits and second axis\n",
    "ylimz = [0, 0.065] # these will be the limits in count/sec for both y-axes. Set it once to make sure they both match. \n",
    "ax1.set_ylim(ylimz) # Left y-axis. \n",
    "xticks(fontsize=15)\n",
    "yticks(fontsize=15)\n",
    "ax2 = ax1.twinx()\n",
    "ax2.set_ylim(np.multiply(ylimz, 5.77* 2033 / 100)) # right y-axis\n",
    "ax2.set_ylabel(\"Flux at Earth \\n[10$^{-14}$ erg cm$^{-2}$ s$^{-1}$ ]\", fontsize=17)\n",
    "xticks(fontsize=15)\n",
    "yticks(fontsize=15)\n",
    "savefig(paperFigures + \"lcdata_bestfit_mag.pdf\", dpi=100, bbox_inches = 'tight')\n",
    "\n"
   ]
  },
  {
   "cell_type": "markdown",
   "metadata": {},
   "source": [
    "\n",
    "# Filter responses / normalization factor\n",
    "SWIFT's UVW2 band which we are using has a little different coverage compared to GALEX bands, which are typically used. Just to help guide our understanding, let's just check and look at how different the various NUV/FUV/UV filters are. The [filter profiles](http://svo2.cab.inta-csic.es/svo/theory/fps3/index.php?id=Swift/UVOT.UVW2&&mode=browse&gname=Swift&gname2=UVOT#filter) can be found online at the mission's document pages. I estimated the normalizations from published instrument papers. This plot won't go in the paper. "
   ]
  },
  {
   "cell_type": "code",
   "execution_count": 8,
   "metadata": {},
   "outputs": [
    {
     "data": {
      "image/png": "[encoded data removed]",
      "text/plain": [
       "<matplotlib.figure.Figure at 0x114a63dd0>"
      ]
     },
     "metadata": {},
     "output_type": "display_data"
    }
   ],
   "source": [
    "uvw2_rsf = pd.read_csv(assorteddata + \"Swift_UVOT.UVW2.dat\", names = ['wavelength', 'eff_area_cm2'], delim_whitespace=True)\n",
    "galex_nuv = pd.read_csv(assorteddata + \"GALEX_GALEX.NUV.dat\", names = ['wavelength', 'eff_area_cm2'], delim_whitespace=True)\n",
    "galex_fuv = pd.read_csv(assorteddata + \"GALEX_GALEX.FUV.dat\", names = ['wavelength', 'eff_area_cm2'], delim_whitespace=True)\n",
    "galex_vega = 4.531e-9 #(erg/cm2/s/A)\n",
    "uvw2_vega = 5.237e-9 #(erg/cm2/s/A)\n",
    "galex_fuv_vega =6.491e-9\n",
    "\n",
    "# filter profiles: \n",
    "# http://svo2.cab.inta-csic.es/svo/theory/fps3/index.php?id=Swift/UVOT.UVW2&&mode=browse&gname=Swift&gname2=UVOT#filter\n",
    "# the coefficients 20 and 60 correct the file approximately to match with the effective area definitions I found in\n",
    "# the instrumentation documentation. This is not exact, but it's pretty close, and this plot is just illustrative anyway..\n",
    "\n",
    "figsize(6,5)\n",
    "fill_between(galex_nuv['wavelength'], 60 * galex_nuv['eff_area_cm2'] / np.max(galex_nuv['eff_area_cm2'] ) , color='Purple', alpha=0.1)\n",
    "fill_between(uvw2_rsf['wavelength'], uvw2_rsf['eff_area_cm2'] ,  color='Salmon', alpha = 0.1)\n",
    "plot(uvw2_rsf['wavelength'], uvw2_rsf['eff_area_cm2'] , label=\"SWIFT UVW2\", color='Salmon')\n",
    "plot(galex_nuv['wavelength'], 60 * galex_nuv['eff_area_cm2'] / np.max(galex_nuv['eff_area_cm2'] ) , label=\"GALEX NUV\", color='Purple')\n",
    "galex_eff_ar = 60 * galex_nuv['eff_area_cm2'] / np.max(galex_nuv['eff_area_cm2'] )\n",
    "fill_between(galex_fuv['wavelength'], 20 * galex_fuv['eff_area_cm2'] / np.max(galex_fuv['eff_area_cm2']),  color='Green', alpha = 0.1)\n",
    "plot(galex_fuv['wavelength'], 20 * galex_fuv['eff_area_cm2']/ np.max(galex_fuv['eff_area_cm2']), label=\"GALEX FUV\", color='Green')\n",
    "swift_eff_ar = uvw2_rsf['eff_area_cm2']\n",
    "xlabel(\"Wavelength (Angstroms)\", fontsize=17)\n",
    "ylabel(\"Effective Area (cm$^{2}$)\", fontsize=17)\n",
    "ylim(0,62)\n",
    "xlim(1250, 3500)\n",
    "legend()\n",
    "xticks(fontsize=12)\n",
    "yticks(fontsize=14)\n",
    "savefig(extraFigures + \"filter_response_comparison.pdf\", dpi=100, bbox_inches = 'tight')\n"
   ]
  },
  {
   "cell_type": "code",
   "execution_count": 9,
   "metadata": {},
   "outputs": [],
   "source": [
    "countrate = manual_lc.loc[idx2]['count'].values[0] \n",
    "counterr = manual_lc.loc[idx2]['counterr'].values[0]\n",
    "convfactor = 5.77 # Brown 2016 multiply by count rate to give the flux density in units of 10−16 erg s−1 cm−2 Å−1 - this (5.77) was the value Edmund suggested\n",
    "fit_val = countrate * convfactor * 10**-16*  2033. #correct for the width of the waveband - I got this value (2033) from Edmund\n",
    "fiterr = counterr * 5.77 * 10**-16*  2033."
   ]
  },
  {
   "cell_type": "markdown",
   "metadata": {},
   "source": [
    "# X-ray data: SWIFT XRT\n",
    "\n",
    "At first, I thought this data was terrible, but it's actually not. This data requires stacking to get a reliable flux estimate, but we do have one if we stack the entire 300 ks. Edmund did this reduction, and here are his files:\n",
    "\n",
    "combined_evt.fits – the full events list for the combined XRT data (can be opened as an image, but each event is tagged with time, energy, and position).\n",
    "\n",
    "trappist_full_xrt_lc.fits – the light curve for the source region (columns include: time bin, count rate, error, and fractional exposure). The light curve was binned to 5000 s and the fractional exposure is the fraction of 5000 s covered by any one bin.\n",
    "\n",
    "bkg_full_xrt_lc.fits – the light curve for the background region\n",
    "\n",
    "bkg.reg, xmm.reg – the region files in ds9 format.\n",
    "\n",
    "Then, we also have: output.lc, created using lcmath and the two \\*fits light curves described above. \n",
    "\n",
    "This data was taken in event mode (each photon hit is recorded as an event), so we will bin the data into 5000 second chunks instead of using the epochs that we used for the UVOT exposures (which were integrated over the exposure times). "
   ]
  },
  {
   "cell_type": "code",
   "execution_count": 10,
   "metadata": {},
   "outputs": [
    {
     "data": {
      "image/png": "[encoded data removed]",
      "text/plain": [
       "<matplotlib.figure.Figure at 0x1155f3190>"
      ]
     },
     "metadata": {},
     "output_type": "display_data"
    }
   ],
   "source": [
    "lcdata = fits.open(assorteddata + \"SWIFT_XRT/output.lc\") # read in background subtracted LC\n",
    "bkgdata = fits.open(assorteddata + \"SWIFT_XRT/bkg_full_xrt_lc.fits\") # read in background subtracted LC\n",
    "\n",
    "# format time column:\n",
    "lc_x = 51910 + 5.270701373846318E+08 / (60.* 60. *24.) + np.true_divide(np.add(0, zip(*lcdata[1].data)[0]),60.* 60. *24.)\n",
    "lc_y = zip(*lcdata[1].data)[1]\n",
    "lc_er = zip(*lcdata[1].data)[2]\n",
    "lc_ff = zip(*lcdata[1].data)[3]\n",
    "xrt_lc = pd.DataFrame({'time':lc_x,'flux':lc_y,'error': lc_er, 'filling_factor': lc_ff})\n",
    "solid_detection = (xrt_lc['flux'] - xrt_lc['error']) > 0\n",
    "xrt_lc['detect'] = solid_detection\n",
    "xrt_lc['back_level']= zip(*bkgdata[1].data)[1]\n",
    "assert zip(*bkgdata[1].data)[0] == zip(*lcdata[1].data)[0] # source and background should have same time array; stop if not\n",
    "\n",
    "detection_type = []\n",
    "err = []\n",
    "true_flux = []\n",
    "for item in xrt_lc.index: \n",
    "    if xrt_lc.iloc[item]['flux'] < 0: #if less than background, we do not have reliable detection, so replace value with upper limit set at background level. \n",
    "                                    # We already subtracted background using lcmath, so less than 0 means 'less than background' here.  \n",
    "        true_flux.append(xrt_lc.iloc[item]['back_level'])\n",
    "        detection_type.append('upper_limit')\n",
    "        err.append(NaN)\n",
    "    elif (xrt_lc.iloc[item]['flux'] - xrt_lc.iloc[item]['error']) <= 0: # then, this data point is indistinguishable from zero. Also upper limit. \n",
    "        true_flux.append(xrt_lc.iloc[item]['flux'])\n",
    "        detection_type.append('upper_limit')\n",
    "        err.append(NaN)\n",
    "    else:\n",
    "        true_flux.append(xrt_lc.iloc[item]['flux'])\n",
    "        detection_type.append('detection')\n",
    "        err.append(xrt_lc.iloc[item]['error'])\n",
    "\n",
    "xrt_lc['xrt_flux'] = true_flux\n",
    "xrt_lc['detection_type'] = detection_type\n",
    "xrt_lc['xrt_error'] = err\n",
    "\n",
    "xrt_lc.to_csv(\"AssortedData/SWIFT_XRT/xray_lightcurve_processed.csv\") # save this# default - don't include totally empty bins\n",
    "idxnull  = (xrt_lc['filling_factor'] > 0.0)\n",
    "##\n",
    "idx_upplim = idxnull & (xrt_lc['detection_type'] =='upper_limit')\n",
    "figsize(12,5)\n",
    "fig, ax1 = subplots()\n",
    "ax1.errorbar(xrt_lc.loc[idx_upplim]['time'], xrt_lc.loc[idx_upplim]['xrt_flux'], alpha = 0.2, uplims = [1] * len(xrt_lc.loc[idx_upplim]['xrt_flux']), yerr = [0.002] * len(xrt_lc.loc[idx_upplim]['xrt_flux']), color='grey',marker='o',linestyle='None')\n",
    "idx_detect = idxnull &(xrt_lc['detection_type'] =='detection') # points with detections only\n",
    "ax1.errorbar(xrt_lc.loc[idx_detect]['time'], xrt_lc.loc[idx_detect]['xrt_flux'], yerr = xrt_lc.loc[idx_detect]['xrt_error'], color='DarkRed',marker='o',linestyle='None')\n",
    "ax1.plot(np.linspace(58000, 58325, 10), \n",
    "     [0.0023] * 10, linewidth=2.6, color='Pink', label = \"Detections\")\n",
    "ax1.fill_between(np.linspace(58000, 58325, 10), \n",
    "             [0.0023 - 0.0005] * 10,\n",
    "             [0.0023 + 0.0005] * 10,\n",
    "             color='Pink', alpha=0.3)\n",
    "\n",
    "ax1.plot(np.linspace(58000, 58325, 10), \n",
    "     [0.00026] * 10, linewidth=2.6, color='Orange')\n",
    "ax1.fill_between(np.linspace(58000, 58325, 10), \n",
    "             [0.00026 - 0.00003] * 10,\n",
    "             [0.00026 + 0.00003] * 10,\n",
    "             color='Orange', alpha=0.3)\n",
    "ax1.set_ylabel(\"SWIFT XRT \\n Corrected Rate (count/s)\", fontsize=17)\n",
    "ax1.set_xlabel(\"Date (MJD - 2400000.5)\", fontsize=17)\n",
    "xticks(fontsize=15)\n",
    "yticks(fontsize=15)\n",
    "ax1.set_xlim(58000, 58325)\n",
    "ax1.set_ylim(0, 25e-3)\n",
    "\n",
    "savefig(paperFigures + \"lcdata_xray_subtracted.pdf\", dpi=100, bbox_inches = 'tight')\n",
    "\n"
   ]
  },
  {
   "cell_type": "code",
   "execution_count": 11,
   "metadata": {},
   "outputs": [
    {
     "name": "stdout",
     "output_type": "stream",
     "text": [
      "0.00238719093603\n",
      "0.000153751662803\n"
     ]
    }
   ],
   "source": [
    "print np.average(xrt_lc.loc[idx_detect]['xrt_flux'].values, weights = 1./xrt_lc.loc[idx_detect]['xrt_error'].values)\n",
    "print np.sum(1./np.power(1./xrt_lc.loc[idx_detect]['xrt_error'].values,2.))"
   ]
  },
  {
   "cell_type": "markdown",
   "metadata": {},
   "source": [
    "The photon count estimate (0.00042 counts/sec $\\pm$ 0.00005 counts/sec) comes from the stacked 300 ks exposure (and can be computed in XSPEC). To convert that to a flux, we need to make assumptions about the spectrum shape. \n",
    "\n",
    "One way to do this is using this online tool: https://heasarc.gsfc.nasa.gov/cgi-bin/Tools/w3pimms/w3pimms.pl to convert the count rate into a flux. We use the 'Swift/XRT/PC count rate' option since this data was collected in Photon Collecting mode. The energy input range runs from 0.3 keV to 10 keV (put that in manually). We put in a nH column density, then choose a model for the spectrum. \n",
    "\n",
    "We chose APEC (https://heasarc.gsfc.nasa.gov/xanadu/xspec/manual/node134.html) as the model. \n",
    "[APEC](https://iopscience.iop.org/article/10.1086/322992/pdf) calculates emissivities for a hot, diffuse, optically thin plasma that is in collisionally-ionized equiliubrium. These are the conditions in the stellar corona creating the observed X-ray flux, so we choose the log(Temperature) we expect for the M8 to be log(T) = 6.5 (you can change this, it doesn't change the flux much). We choose the abundances to be 0.2 Solar (also you can change that without changing flux much). \n",
    "\n",
    "The exact temperature we use for the corona temperature changes the count rate to flux conversion. \n",
    "\n",
    "The referee suggested we use instead as done in Wheatley 2017 a two-temperature APEC model. For the Wheatley 2017 model, the Swift XRT count rate measured in the 0.3-10 keV band (or 0.3-2 keV, since the model produces almost no emission above 2 keV) translates to flux as follows: \n",
    "\n",
    "1 count/s -> 2.67e-11 erg/s/cm$^2$ (for a bandpass of 0.3-10 keV)\n",
    "\n",
    "Using the parameters described above as well as our computed count rate and error on the count rate, we compute an x-ray flux and lower and upper limits of: (see next cell)\n"
   ]
  },
  {
   "cell_type": "code",
   "execution_count": 48,
   "metadata": {},
   "outputs": [
    {
     "name": "stdout",
     "output_type": "stream",
     "text": [
      "total flux (ergs/s/cm^2): 1.1214e-14  and error: 1.335e-15\n"
     ]
    }
   ],
   "source": [
    "# Old values, which we are not using anymore:\n",
    "flux_from_pimms = 1.063E-14 # yields erg/s/cm^2\n",
    "flux_from_pimmsmin =   9.360E-15 # yields erg/s/cm^2\n",
    "flux_from_pimmsmax = 1.189E-14  # yields erg/s/cm^2\n",
    "\n",
    "# New values:\n",
    "rawflux = 0.00042 # counts / sec\n",
    "rawfluxerr = 0.00005 # counts / sec\n",
    "flux_from_2param_APEC = (rawflux) * 2.67e-11 # yields erg/s/cm^2\n",
    "flux_from_2param_APECerr = (rawfluxerr) * 2.67e-11 # yields erg/s/cm^2\n",
    "\n",
    "print \"total flux (ergs/s/cm^2):\", flux_from_2param_APEC, \" and error:\", flux_from_2param_APECerr"
   ]
  },
  {
   "cell_type": "code",
   "execution_count": 47,
   "metadata": {},
   "outputs": [
    {
     "name": "stdout",
     "output_type": "stream",
     "text": [
      "loud flux (ergs/s/cm^2): 6.408e-14  and error: 4.005e-15\n"
     ]
    }
   ],
   "source": [
    "# Flaring count rate to flux, using APEC two parameter model:\n",
    "rawflux = 0.0024 # counts / sec\n",
    "rawfluxerr = 0.00015 # counts / sec\n",
    "flux_from_2param_APEC_flare = (rawflux) * 2.67e-11 # yields erg/s/cm^2\n",
    "flux_from_2param_APEC_flare_err = (rawfluxerr) * 2.67e-11 # yields erg/s/cm^2\n",
    "print \"loud flux (ergs/s/cm^2):\", flux_from_2param_APEC_flare, \" and error:\", flux_from_2param_APEC_flare_err"
   ]
  },
  {
   "cell_type": "code",
   "execution_count": 13,
   "metadata": {},
   "outputs": [
    {
     "name": "stdout",
     "output_type": "stream",
     "text": [
      "quiescent flux (ergs/s/cm^2): 6.942e-15  and error: 8.01e-16\n"
     ]
    }
   ],
   "source": [
    "# Also, we can find the baseline flux (but we won't use this - except to add to table):\n",
    "raw_baseline, raw_baseline_err = 0.00026, 0.00003\n",
    "print \"quiescent flux (ergs/s/cm^2):\", 2.67e-11 * raw_baseline, \" and error:\", 2.67e-11 * raw_baseline_err"
   ]
  },
  {
   "cell_type": "markdown",
   "metadata": {},
   "source": [
    "# Convert between wavebands to compute the XUV flux. \n",
    "Here we are using the empirical scaling relations from a collection of literature papers. \n",
    "\n",
    "Originally, I had to convert UV->X-ray->EUV, but since we have a reliable estimate of the average X-ray flux now, I can use that vaue (which comes from the online calculator) directly. I will also do the extrapolation from UV to X-ray, just to check what it is and how good the empirical models in the literature are. The models in the literature use mostly much more massive stars than M8Vs, so it's likely that they won't be 'that' good.\n",
    "\n",
    "The papers that I used in figuring all this out are as follows:\n",
    "1. [Sanz-Forcada et al. 2011](https://arxiv.org/pdf/1105.0550.pdf) - Table 5 was helpful for seeing the types of stars for which measurements in different wavebands exist, and Equation 3 is the EUV <-> X-ray scaling relation\n",
    "2. [Chadney et al. 2015](https://arxiv.org/pdf/1412.3380.pdf) - Equations 2a and 2b, also see Figure 2\n",
    "3. [Stelzer et al. 2013](https://academic.oup.com/mnras/article/431/3/2063/1068594) - Equation 4 combined with Table 1, and Figure 14 which visually presents the empirical correlations. \n"
   ]
  },
  {
   "cell_type": "code",
   "execution_count": 32,
   "metadata": {},
   "outputs": [
    {
     "name": "stdout",
     "output_type": "stream",
     "text": [
      " ----- \n",
      " USING REAL XRAY FLUX \n",
      " ----- \n",
      "euv luminosity level: 4.82308656915e+26\n",
      "euv flux level: 2.75357045649e-14\n",
      "euv fractional luminosity:: 2.401151e-04\n"
     ]
    }
   ],
   "source": [
    "fit_valnew = fit_val\n",
    "dist_to_surf = 5.627e-4# AU\n",
    "dist_to_earth = 12.1 * 206265 # AU\n",
    "uv_at_surface = fit_valnew / np.power(dist_to_surf/dist_to_earth,2)\n",
    "uv_at_surfacemin = (fit_valnew - fiterr) / np.power(dist_to_surf/dist_to_earth,2)\n",
    "uv_at_surfacemax = (fit_valnew + fiterr) / np.power(dist_to_surf/dist_to_earth,2)\n",
    "uv_at_earth = uv_at_surface / np.power(dist_to_earth / dist_to_surf,2)\n",
    "\n",
    "uvw2lum = trappist_machine.flux_to_lum(fit_valnew, 12.1) # parsecs\n",
    "uvw2lumlow = trappist_machine.flux_to_lum(fit_valnew - fiterr, 12.1)\n",
    "uvw2lumup = trappist_machine.flux_to_lum(fit_valnew + fiterr, 12.1)\n",
    "\n",
    "\n",
    "print \" ----- \"\n",
    "print \" USING REAL XRAY FLUX \"\n",
    "print \" ----- \"\n",
    "\n",
    "## Define the x-ray flux from the values found from APEC two-parameter model\n",
    "res_xrayflux_direct = [flux_from_2param_APEC - flux_from_2param_APECerr, flux_from_2param_APEC, flux_from_2param_APEC + flux_from_2param_APECerr]\n",
    "\n",
    "res_xraylum_fraction_direct = np.true_divide(trappist_machine.flux_to_lum([res_xrayflux_direct, res_xrayflux_direct, res_xrayflux_direct],12.1),   ( solar_lum* trappist_lum))\n",
    "xray_direct_at_surface = res_xrayflux_direct[1] / np.power(dist_to_surf/dist_to_earth,2)\n",
    "euv_over_Fx  = 425 * (xray_direct_at_surface)**-0.42 # this is euv/Fx, fixed for measured value\n",
    "\n",
    "# EUV with true measured xray flux\n",
    "euvlum = trappist_machine.flux_to_lum(euv_over_Fx * res_xrayflux_direct[1], 12.1)\n",
    "euvlummin = trappist_machine.flux_to_lum(euv_over_Fx * res_xrayflux_direct[0], 12.1)\n",
    "euvlummax = trappist_machine.flux_to_lum(euv_over_Fx * res_xrayflux_direct[2], 12.1)\n",
    "\n",
    "# also x-ray, again:\n",
    "xraylum_direct = trappist_machine.flux_to_lum(res_xrayflux_direct[1], 12.1)\n",
    "xraylummin_direct = trappist_machine.flux_to_lum(res_xrayflux_direct[0], 12.1)\n",
    "xraylummax_direct = trappist_machine.flux_to_lum(res_xrayflux_direct[2], 12.1)\n",
    "\n",
    "## finally the sum:\n",
    "xuvmiddle = euvlum + xraylum_direct\n",
    "xuvmax = euvlummax + xraylummax_direct\n",
    "xuvmin = euvlummin +xraylummin_direct\n",
    "\n",
    "print \"euv luminosity level:\", euvlum\n",
    "print \"euv flux level:\", trappist_machine.planet_flux(euvlum, 12.1 * 206265)\n",
    "print \"euv fractional luminosity:: %e\" % (  euvlum /  ( solar_lum* trappist_lum))\n",
    "\n",
    "\n"
   ]
  },
  {
   "cell_type": "code",
   "execution_count": 34,
   "metadata": {},
   "outputs": [
    {
     "name": "stdout",
     "output_type": "stream",
     "text": [
      "$F_{UV, uvw2, Earth}$  & 8.4e-15 $\\pm 1.4e-15$  & This Work \\\\ \n",
      "$L_{UV, uvw2}$ / L$_{*}$  & 7.4e-05 $\\pm 1.2e-05 $  & This Work \\\\ \n",
      "$L_{X}$ / L$_{*}$ (total)  & 1.0e-04 $\\pm 1.2e-05$  & This Work, measured \\\\ \n",
      "$L_{X}$ / L$_{*}$ (detections)  & 5.6e-04 $\\pm 3.5e-05$  & This Work, measured \\\\ \n",
      "$L_{X}$ / L$_{*}$ (baseline)  & 6.1e-05 $\\pm 7.0e-06$  & This Work, measured \\\\ \n",
      "$F_{X}$ (total)  & 1.1e-14 $\\pm 1.3e-15$ & This Work, measured \\\\ \n",
      "$F_{X}$ (detections)  & 6.4e-14 $\\pm 4.0e-15$ & This Work, measured \\\\ \n",
      "$F_{X}$ (baseline)  & 6.9e-15 $\\pm 8.0e-16$  & This Work, measured \\\\ \n",
      "$L_{EUV}$ / L$_{*}$ (total)  & 2.4e-04 $\\pm 2.8e-05$   & This Work, extrapolated \\\\ \n",
      "$L_{XUV}$ / L$_{*}$ (total) & 3.4e-04 $\\pm 4.0e-05$  & This Work, extrapolated \\\\ \n"
     ]
    }
   ],
   "source": [
    "# get the values for the table AND their errors. This can be copy pasted into the stellar parameters table in the paper. \n",
    "#res_xrayflux = [xray_at_earthmin, xray_at_earth, xray_at_earthmax]\n",
    "\n",
    "#res_xraylum_fraction = np.true_divide(trappist_machine.flux_to_lum([xray_at_earthmin, xray_at_earth, xray_at_earthmax],12.1),   ( solar_lum* trappist_lum))\n",
    "print \"$F_{UV, uvw2, Earth}$  & %0.1e $\\pm %0.1e$  & This Work \\\\\\ \" % (fit_val,fiterr)\n",
    "print \"$L_{UV, uvw2}$ / L$_{*}$  & %0.1e $\\pm %0.1e $  & This Work \\\\\\ \" % ( uvw2lum/  ( solar_lum* trappist_lum),  (uvw2lumup - uvw2lum)/  ( solar_lum* trappist_lum))\n",
    "#print \"$L_{X}$ / L$_{*}$  & %0.1e $^{+%0.1e}_{%0.1e}$  & This Work, extrapolated$ \\\\\\ \" % (xraylum/ ( solar_lum* trappist_lum), (xraylummax - xraylum)/ ( solar_lum* trappist_lum), (xraylum - xraylummin) / ( solar_lum* trappist_lum))\n",
    "print \"$L_{X}$ / L$_{*}$ (total)  & %0.1e $\\pm %0.1e$  & This Work, measured \\\\\\ \" % (xraylum_direct/ ( solar_lum* trappist_lum), (xraylummax_direct - xraylum_direct)/ ( solar_lum* trappist_lum))\n",
    "print \"$L_{X}$ / L$_{*}$ (detections)  & %0.1e $\\pm %0.1e$  & This Work, measured \\\\\\ \" % ((trappist_machine.flux_to_lum(flux_from_2param_APEC_flare, 12.1) / ( solar_lum* trappist_lum)), (trappist_machine.flux_to_lum(flux_from_2param_APEC_flare_err, 12.1) / ( solar_lum* trappist_lum)))\n",
    "print \"$L_{X}$ / L$_{*}$ (baseline)  & %0.1e $\\pm %0.1e$  & This Work, measured \\\\\\ \" % ((trappist_machine.flux_to_lum(2.67e-11 *raw_baseline, 12.1) / ( solar_lum* trappist_lum)), (trappist_machine.flux_to_lum(2.67e-11 *raw_baseline_err, 12.1) / ( solar_lum* trappist_lum)))\n",
    "print \"$F_{X}$ (total)  & %0.1e $\\pm %0.1e$ & This Work, measured \\\\\\ \" % (res_xrayflux_direct[1], res_xrayflux_direct[2] - res_xrayflux_direct[1],)\n",
    "print \"$F_{X}$ (detections)  & %0.1e $\\pm %0.1e$ & This Work, measured \\\\\\ \" % (flux_from_2param_APEC_flare, flux_from_2param_APEC_flare_err)\n",
    "print \"$F_{X}$ (baseline)  & %0.1e $\\pm %0.1e$  & This Work, measured \\\\\\ \" % (2.67e-11 * raw_baseline, 2.67e-11 * raw_baseline_err)\n",
    "print \"$L_{EUV}$ / L$_{*}$ (total)  & %0.1e $\\pm %0.1e$   & This Work, extrapolated \\\\\\ \" % ( euvlum/  ( solar_lum* trappist_lum),  (euvlummax - euvlum)/  ( solar_lum* trappist_lum))\n",
    "#print \"$F_{EUV}$  & %0.1e $^{+%0.1e}_{%0.1e}$   & This Work, extrapolated \\\\\\ \" % (trappist_machine.planet_flux(euvlum, 12.1 * 206265), trappist_machine.planet_flux(euvlummax, 12.1 * 206265), trappist_machine.planet_flux(euvlummin, 12.1 * 206265))\n",
    "print \"$L_{XUV}$ / L$_{*}$ (total) & %0.1e $\\pm %0.1e$  & This Work, extrapolated \\\\\\ \" % ((xuvmiddle) /  ( solar_lum* trappist_lum), (xuvmax - xuvmiddle) /  ( solar_lum* trappist_lum))\n",
    "\n"
   ]
  },
  {
   "cell_type": "markdown",
   "metadata": {},
   "source": [
    "So, we find that the measured value of the x-ray flux is a factor of a few lower than the extrapolated value. The extrapolations are right in line with the Wheatley+ estimates, but our measured values are a bit lower (despite the fact we seem to have caught at least one flare in our time series, which could be biasing us even higher depending on how frequent flares actually are). \n",
    "\n",
    "Does this matter? Let's check how it affects the mass loss rates and the ocean retention."
   ]
  },
  {
   "cell_type": "code",
   "execution_count": 36,
   "metadata": {},
   "outputs": [],
   "source": [
    "flux_xuv_average = trappist_machine.planet_flux(euvlum + xraylum_direct, trappist1['a(AU)'].values)\n",
    "flux_xuv_average\n",
    "trappist1['XUV_flux(erg,cm-2,s-1)'] = flux_xuv_average\n",
    "# get the mass loss rates, put it in the pandas planet frame\n",
    "flux_scaled = trappist1['XUV_flux(erg,cm-2,s-1)'] #this needs to be scaled\n",
    "G = 6.674*10**(-8.0) # cm3g−1s−2\n",
    "eta = 0.1 # 10-20 percent for low mass planets; Owen & Alvarez 2016\n",
    "alpha = 1 #planet cross section increases in the UV , less important for cooler planets\n",
    "K = 1\n",
    "mdot = (eta * np.pi * flux_scaled * alpha**2.0 * (np.multiply(trappist1['Radius(Rearth)'],1.0) * 6.371*10**8.0 )**3.0) / \\\n",
    "            (G * 5.9721986*10**27.0 * np.multiply(trappist1['Mass(Mearth)'],1) * K)# eq 1 of Wheatley \n",
    "    \n",
    "trappist1['mass_loss(g/s)'] = mdot # create mass loss column of table\n"
   ]
  },
  {
   "cell_type": "code",
   "execution_count": 37,
   "metadata": {},
   "outputs": [
    {
     "data": {
      "text/html": [
       "<div>\n",
       "<style>\n",
       "    .dataframe thead tr:only-child th {\n",
       "        text-align: right;\n",
       "    }\n",
       "\n",
       "    .dataframe thead th {\n",
       "        text-align: left;\n",
       "    }\n",
       "\n",
       "    .dataframe tbody tr th {\n",
       "        vertical-align: top;\n",
       "    }\n",
       "</style>\n",
       "<table border=\"1\" class=\"dataframe\">\n",
       "  <thead>\n",
       "    <tr style=\"text-align: right;\">\n",
       "      <th></th>\n",
       "      <th>Planet</th>\n",
       "      <th>Mass(Mearth)</th>\n",
       "      <th>Radius(Rearth)</th>\n",
       "      <th>Period(days)</th>\n",
       "      <th>a(AU)</th>\n",
       "      <th>e</th>\n",
       "      <th>i(deg)</th>\n",
       "      <th>XUV_flux(erg,cm-2,s-1)</th>\n",
       "      <th>mass_loss(g/s)</th>\n",
       "    </tr>\n",
       "  </thead>\n",
       "  <tbody>\n",
       "    <tr>\n",
       "      <th>0</th>\n",
       "      <td>TRAPPIST-1 h</td>\n",
       "      <td>0.331</td>\n",
       "      <td>0.773</td>\n",
       "      <td>18.767953</td>\n",
       "      <td>0.061935</td>\n",
       "      <td>0.00567</td>\n",
       "      <td>89.80</td>\n",
       "      <td>63.364216</td>\n",
       "      <td>1.802216e+07</td>\n",
       "    </tr>\n",
       "    <tr>\n",
       "      <th>1</th>\n",
       "      <td>TRAPPIST-1 g</td>\n",
       "      <td>1.148</td>\n",
       "      <td>1.148</td>\n",
       "      <td>12.354473</td>\n",
       "      <td>0.046877</td>\n",
       "      <td>0.00208</td>\n",
       "      <td>89.71</td>\n",
       "      <td>110.610543</td>\n",
       "      <td>2.971205e+07</td>\n",
       "    </tr>\n",
       "    <tr>\n",
       "      <th>2</th>\n",
       "      <td>TRAPPIST-1 f</td>\n",
       "      <td>0.934</td>\n",
       "      <td>1.046</td>\n",
       "      <td>9.205585</td>\n",
       "      <td>0.038534</td>\n",
       "      <td>0.01007</td>\n",
       "      <td>89.68</td>\n",
       "      <td>163.694945</td>\n",
       "      <td>4.088233e+07</td>\n",
       "    </tr>\n",
       "    <tr>\n",
       "      <th>3</th>\n",
       "      <td>TRAPPIST-1 e</td>\n",
       "      <td>0.772</td>\n",
       "      <td>0.910</td>\n",
       "      <td>6.099043</td>\n",
       "      <td>0.029283</td>\n",
       "      <td>0.00510</td>\n",
       "      <td>89.86</td>\n",
       "      <td>283.457517</td>\n",
       "      <td>5.639584e+07</td>\n",
       "    </tr>\n",
       "    <tr>\n",
       "      <th>4</th>\n",
       "      <td>TRAPPIST-1 d</td>\n",
       "      <td>0.297</td>\n",
       "      <td>0.784</td>\n",
       "      <td>4.049959</td>\n",
       "      <td>0.022280</td>\n",
       "      <td>0.00837</td>\n",
       "      <td>89.75</td>\n",
       "      <td>489.631643</td>\n",
       "      <td>1.619248e+08</td>\n",
       "    </tr>\n",
       "    <tr>\n",
       "      <th>5</th>\n",
       "      <td>TRAPPIST-1 c</td>\n",
       "      <td>1.156</td>\n",
       "      <td>1.095</td>\n",
       "      <td>2.421807</td>\n",
       "      <td>0.015815</td>\n",
       "      <td>0.00654</td>\n",
       "      <td>89.67</td>\n",
       "      <td>971.783858</td>\n",
       "      <td>2.249606e+08</td>\n",
       "    </tr>\n",
       "    <tr>\n",
       "      <th>6</th>\n",
       "      <td>TRAPPIST-1 b</td>\n",
       "      <td>1.017</td>\n",
       "      <td>1.121</td>\n",
       "      <td>1.510876</td>\n",
       "      <td>0.011548</td>\n",
       "      <td>0.00622</td>\n",
       "      <td>89.65</td>\n",
       "      <td>1822.719826</td>\n",
       "      <td>5.145979e+08</td>\n",
       "    </tr>\n",
       "  </tbody>\n",
       "</table>\n",
       "</div>"
      ],
      "text/plain": [
       "         Planet  Mass(Mearth)  Radius(Rearth)  Period(days)     a(AU)  \\\n",
       "0  TRAPPIST-1 h         0.331           0.773     18.767953  0.061935   \n",
       "1  TRAPPIST-1 g         1.148           1.148     12.354473  0.046877   \n",
       "2  TRAPPIST-1 f         0.934           1.046      9.205585  0.038534   \n",
       "3  TRAPPIST-1 e         0.772           0.910      6.099043  0.029283   \n",
       "4  TRAPPIST-1 d         0.297           0.784      4.049959  0.022280   \n",
       "5  TRAPPIST-1 c         1.156           1.095      2.421807  0.015815   \n",
       "6  TRAPPIST-1 b         1.017           1.121      1.510876  0.011548   \n",
       "\n",
       "         e  i(deg)  XUV_flux(erg,cm-2,s-1)  mass_loss(g/s)  \n",
       "0  0.00567   89.80               63.364216    1.802216e+07  \n",
       "1  0.00208   89.71              110.610543    2.971205e+07  \n",
       "2  0.01007   89.68              163.694945    4.088233e+07  \n",
       "3  0.00510   89.86              283.457517    5.639584e+07  \n",
       "4  0.00837   89.75              489.631643    1.619248e+08  \n",
       "5  0.00654   89.67              971.783858    2.249606e+08  \n",
       "6  0.00622   89.65             1822.719826    5.145979e+08  "
      ]
     },
     "execution_count": 37,
     "metadata": {},
     "output_type": "execute_result"
    }
   ],
   "source": [
    "trappist1"
   ]
  },
  {
   "cell_type": "code",
   "execution_count": null,
   "metadata": {},
   "outputs": [],
   "source": [
    "# solve optimization problem:\n",
    "# n-body sims stabilty (ecc damping), mass loss rates, tidal Qs, system age\n",
    "# we will leave this for a future work "
   ]
  },
  {
   "cell_type": "markdown",
   "metadata": {},
   "source": [
    "# Tidal Q Analysis\n",
    "\n",
    "The planets' orbits will evolve The magnitude of these effects can be estimated using the following expression from Goldreich 1963 (with expressions written in a functionally identical form to that used in Barnes 2008):\n",
    "\\begin{equation}\n",
    "da/dt = \\Big( \\frac{-63}{2}\\frac{1}{Q' m_p}  \\sqrt{GM^3} r_p^5 e^2 + \\frac{9}{2}\\frac{\\sigma}{Q_{*}'}  \\sqrt{G/M} R^5 m_{p} \\Big) a^{-11/2},\n",
    "\\end{equation}\n",
    "where $Q' = 3Q / 2k_{2}$, $m_p$ denotes a planetary mass, $r_p$ denotes a planetary radius, $G$ is the gravitational constant, $M$ denotes the stellar mass, $R$ the stellar radius, $a$ denotes the planetary semi-major axis, $e$  the planetary eccentricity, and the term $\\sigma = sign(2\\Omega - 3n)$ (where $\\Omega$ is the stellar spin rate and $n$ the planetary mean motion) described the relative frequencies of the stellar rotational period and planetary orbital period. \n",
    "In Gillon 2016, the TRAPPIST-1 rotation rate was estimated using ground-based data to be $P_{rot}= 1.40$ days, but follow-up work using data from the K2 spacecraft (Luger 2017, Vida 207) provided an updated value of $P_{rot}= 3.3$ days, which we use in this analysis. \n",
    "This value of $P_{rot}= 3.3$ days (giving the star a rotational period situated in between the orbital periods of planets c and d) means that the sign term $\\sigma$ cannot be neglected, as different planets will be affected differently by tides raised on the star. \n",
    "\n",
    "Without a non-zero eccentricity, the orbital energy will not significantly change, and so $a$ will not change.\n",
    "A secondary paired equation can be written to describe the evolution of eccentricity over time \\citep{Goldreich1963},\n",
    "\\begin{equation}\n",
    "de/dt = \\Big(\\frac{-63}{4}\\frac{1}{Q' m_p}  \\sqrt{GM^3} r_p^5 + \\frac{171}{16}\\frac{\\sigma}{Q_{*}'}  \\sqrt{G/M} R^5 m_{p} \\Big) e\\ a^{-13/2},\n",
    "\\end{equation}\n",
    "where the first term is due to tides raised on the planet and the second term is due to tides raised on the star. \n",
    "\n",
    "Also, we need an expression for the mass loss rate (Luger et al. 2015, Bourrier et al. 2017):\n",
    "\\begin{equation}\n",
    "    \\dot{m_p} = \\epsilon ( r_{XUV} / r_p )^{2} ( 3 F_{XUV} / 4 G \\rho K )\n",
    "    \\label{eq:mdot}\n",
    "\\end{equation}\n",
    "where $\\epsilon$ is the heating efficiency, $r_p$ the true radius of the planet, $r_{XUV}$ the effective planetary radius in the XUV waveband, $F_{XUV}$ the XUV flux received by the planet, $G$ the gravitational constant, and $K$ is a tidal enhancement factor, where:\n",
    "\\begin{equation}\n",
    "    K = 1 - \\frac{3}{2} \\frac{r_{XUV}}{r_{roche}} +  \\frac{1}{2}\\frac{r_{XUV}^{2}}{r_{roche}^2}\n",
    "\\end{equation}\n",
    "where $r_{roche}$ is the planetary Roche Lobe ($r_{roche}~=~(m_p / 2 M_{*})^{1/3} a$). "
   ]
  },
  {
   "cell_type": "code",
   "execution_count": null,
   "metadata": {},
   "outputs": [],
   "source": [
    "from scipy.integrate import odeint, ode\n",
    "\n",
    "perz = np.copy(trappist1['Period(days)'].values)\n",
    "perz.sort()\n",
    "color_to_use = ['#6a11d6','#7dd611','#d6117d','#d6a111','#1125d6']\n",
    "linez = [1,1.5,2,2.5,3] #line widths for plotting to make it color-blind accessible \n",
    "y0 = [0.011,0.00622, 0.00270 * 330.0] # initial conditions at y0\n",
    "t = np.linspace(0, 1.01e10, 100000)\n",
    "abserr = 1.0e-10\n",
    "relerr = 1.0e-8\n",
    "dmdtval = trappist1.loc[trappist1['Planet'] == 'TRAPPIST-1 b']['mass_loss(g/s)'].values[0] * 5.2804674*10**(-21.)\n",
    "\n",
    "figsize(6,3)\n",
    "for i, qval in enumerate(np.true_divide([1,10,100, 1000, 10000], 5.)):\n",
    "    sol = odeint(trappist_machine.tidal_evo, y0, t, args = (qval,1e-5, perz[0], dmdtval), atol=abserr, rtol=relerr)\n",
    "    asol,esol,msol = zip(*sol)\n",
    "    if i == 0:\n",
    "        plot(t, esol, label = r\"$Q' = (3 Q) / 2 k_{2}$ = %i\" % (3. * qval / (2 * 0.3)), linewidth=linez[i], color=color_to_use[i])\n",
    "    else:\n",
    "        plot(t, esol, label = r\"$Q'$ = %i\" % (3. * qval / (2 * 0.3)), color=color_to_use[i], linewidth=linez[i])\n",
    "legend()\n",
    "#ylim(0.0108,0.0115)\n",
    "xlabel(\"Time (years) from present day\", fontsize=17)\n",
    "#xlabel(\"3/2 * Q/k\", fontsize=17)\n",
    "ylabel(\"Eccentrcity ($e_b$)\", fontsize=17)\n",
    "xticks(fontsize=14)\n",
    "yticks(fontsize=14)\n",
    "xlim(3e4, 7.6e9)\n",
    "xscale(\"log\")\n",
    "savefig(paperFigures + \"trappist-ecc.pdf\", dpi=150, bbox_inches = 'tight')"
   ]
  },
  {
   "cell_type": "markdown",
   "metadata": {},
   "source": [
    "#  DE/DT DA/DT DL/DT\n",
    "What happens to the eccentricity of the planets as the orbits evolve, according to a simple tidal model? This can also be computed using the timescale expression and not the full time-series. \n",
    "\n",
    "If we increase $dm/dt$ enough, it will start to change the solutions: for $de/dt$, this can even mean that the tide raised on the star becomes less and less important than the tide raised on the planet. However, the expected values of $dm/dt$ for this system are really too small to matter, and the imbalance between the sizes of the two terms if already extreme because $Q_{*}$ is so large. "
   ]
  },
  {
   "cell_type": "code",
   "execution_count": null,
   "metadata": {},
   "outputs": [],
   "source": [
    "# make e plot with all planets\n",
    "# don't forget to make things radians. and convert back at the end. \n",
    "t = np.linspace(0, 7.6e9, 100000)\n",
    "#integrate it\n",
    "from scipy.integrate import odeint, ode\n",
    "abserr = 1.0e-10\n",
    "relerr = 1.0e-8\n",
    "\n",
    "colors_for_this = [\"#666666\",\"#004C70\",\"#0093D1\",\"#F2635F\",\"#F4D00C\",\"#E0A025\",\"k\"]\n",
    "## first look at planet b alone, its future evolution from this current point. \n",
    "\n",
    "#\n",
    "figsize(4,10)\n",
    "qvals = [10./5.,100./5., 1000./5]\n",
    "for knum in range(len(qvals)):\n",
    "    subplot(len(qvals), 1,knum +1)\n",
    "    counter =0\n",
    "    for i, planet in enumerate(['TRAPPIST-1 b','TRAPPIST-1 c','TRAPPIST-1 d','TRAPPIST-1 e','TRAPPIST-1 f','TRAPPIST-1 g', 'TRAPPIST-1 h']):\n",
    "        sma = trappist1.loc[trappist1['Planet'] == planet]['a(AU)'].values[0]\n",
    "        ecc = trappist1.loc[trappist1['Planet'] == planet]['e'].values[0]\n",
    "        mass = trappist1.loc[trappist1['Planet'] == planet]['Mass(Mearth)'].values[0] \n",
    "        per = trappist1.loc[trappist1['Planet'] == planet]['Period(days)'].values[0] \n",
    "        dmdtval = trappist1.loc[trappist1['Planet'] == planet]['mass_loss(g/s)'].values[0] * 5.2804674*10**(-21.) #convert units\n",
    "        y0 = [sma, ecc, mass] # initial conditions at y0\n",
    "        sol = odeint(trappist_machine.tidal_evo, y0, t, args = (qvals[knum],1e-5,per, dmdtval), atol=abserr, rtol=relerr) # solve this\n",
    "        asol,esol,msol = zip(*sol)\n",
    "        plot(t /1e9, esol, label = \"%s\" % planet, color=colors_for_this[i])\n",
    "        if esol[-1] < 0.001: # add text labels so we know which planet is which if seen without color\n",
    "            text(7.7 + counter * 0.35,esol[-1], planet[-1], color = colors_for_this[i], fontsize=17)\n",
    "            counter = counter + 1\n",
    "        else:\n",
    "            text(7.7,esol[-1], planet[-1], color = colors_for_this[i], fontsize=17)\n",
    "\n",
    "    if knum != len(qvals) -1:\n",
    "        xticks([],[],fontsize=14)\n",
    "        yticks(fontsize=14)\n",
    "    xlim(0,9.2)\n",
    "    text(3.4,0.0085, \"Q' = %i\" % (3. * qvals[knum] / (0.3 * 2)), fontweight = 'bold', fontsize=20, alpha=0.7)\n",
    "    ylabel(\"Eccentrcity ($e$)\", fontsize=15)\n",
    "xticks(fontsize=14)\n",
    "subplots_adjust(hspace = 0)\n",
    "xlabel(\"Time (Gyr)\", fontsize=17)\n",
    "yticks(fontsize=14)\n",
    "savefig(paperFigures + \"trappist-all-ecc-pumpedn_botherms.pdf\", dpi=150, bbox_inches = 'tight')"
   ]
  },
  {
   "cell_type": "markdown",
   "metadata": {},
   "source": [
    "# Find the values of k/Q that keep eccentricites non-zero over system age. \n",
    "This cell takes a little while to run (on the order of ~30 minutes), so the results will also be saved as \"timescale_plot_data.pkl\" and can be loaded rather than re-generated. We note that since $dm/dt$ is small, the derived timescales should not vary compared to the classic analytic expression; however, we solve the ODE in anticipation that for systems with larger $dm/dt$, the changing planetary mass could matter over long time scales. "
   ]
  },
  {
   "cell_type": "code",
   "execution_count": null,
   "metadata": {},
   "outputs": [],
   "source": [
    "# don't forget to make things radians. and convert back at the end. \n",
    "t = np.linspace(0, 10e9, 1000000)\n",
    "\n",
    "colors_for_this = [\"#666666\",\"#004C70\",\"#0093D1\",\"#F2635F\",\"#F4D00C\",\"#E0A025\",\"k\"]\n",
    "\n",
    "#\n",
    "figsize(4,10)\n",
    "qvals = np.logspace(-1, 4, 60)\n",
    "answers = pd.DataFrame()\n",
    "endtimes = pd.DataFrame()\n",
    "\n",
    "# using the errors from the Grimm paper, find the place that we couldn't see if the result is incompatable with zero or not:\n",
    "incomp_with_zero = [0.00622 - 2 * 0.00304, 0.00654 - 3 * 0.00188, 0.00837 - 8* 0.00093, 0.00510 - 8* 0.00058, 0.01007 - 7* 0.00068, \n",
    "                    0.00208 - 3* 0.00058, 0.00567 - 4 * 0.00121] # comes from errors on each measured value of the ecc\n",
    "if regen_Q_values ==True:\n",
    "    for knum in range(len(qvals)):\n",
    "        tmpz =[]\n",
    "        timez = []\n",
    "        for i, planet in enumerate(['TRAPPIST-1 b','TRAPPIST-1 c','TRAPPIST-1 d','TRAPPIST-1 e','TRAPPIST-1 f','TRAPPIST-1 g', 'TRAPPIST-1 h']):\n",
    "            sma = trappist1.loc[trappist1['Planet'] == planet]['a(AU)'].values[0]\n",
    "            ecc = trappist1.loc[trappist1['Planet'] == planet]['e'].values[0]\n",
    "            mass = trappist1.loc[trappist1['Planet'] == planet]['Mass(Mearth)'].values[0] \n",
    "            per = trappist1.loc[trappist1['Planet'] == planet]['Period(days)'].values[0] \n",
    "            dmdtval = trappist1.loc[trappist1['Planet'] == planet]['mass_loss(g/s)'].values[0] * 5.2804674*10**(-21.) #convert units\n",
    "\n",
    "            y0 = [sma, ecc, mass] # initial conditions at y0\n",
    "            sol = odeint(trappist_machine.tidal_evo, y0, t, args = (qvals[knum],1e-5,per, dmdtval), atol=abserr, rtol=relerr)\n",
    "            asol,esol,msol = zip(*sol)\n",
    "            tmpz.append(esol[-1])\n",
    "            try:\n",
    "                timeend = min(pd.Series(t).loc[pd.Series(esol) < (incomp_with_zero[i])])\n",
    "            except ValueError:\n",
    "                timeend = NaN\n",
    "            timez.append(timeend)\n",
    "\n",
    "        answers = answers.append({'mean': np.mean(tmpz), 'b':tmpz[0],'c':tmpz[1], 'd':tmpz[2], \n",
    "                                 'e':tmpz[3], 'f':tmpz[4], 'g':tmpz[5], 'h':tmpz[6],\n",
    "                                  'btime':timez[0],'ctime':timez[1], 'dtime':timez[2], \n",
    "                                 'etime':timez[3], 'ftime':timez[4], 'gtime':timez[5], 'htime':timez[6],\n",
    "                                 'q': qvals[knum]}, ignore_index=True)\n",
    "\n"
   ]
  },
  {
   "cell_type": "code",
   "execution_count": null,
   "metadata": {},
   "outputs": [],
   "source": [
    "if regen_Q_values ==True:\n",
    "    answers['k/Q'] =0.3 / answers['q']\n",
    "    answers.to_pickle(assorteddata + \"timescale_plot_data.pkl\") # save results"
   ]
  },
  {
   "cell_type": "code",
   "execution_count": null,
   "metadata": {
    "slideshow": {
     "slide_type": "-"
    }
   },
   "outputs": [],
   "source": [
    "answers = pd.read_pickle(assorteddata + \"timescale_plot_data.pkl\") # shortcut to make plot without generating results"
   ]
  },
  {
   "cell_type": "code",
   "execution_count": null,
   "metadata": {},
   "outputs": [],
   "source": [
    "assorteddata + \"timescale_plot_data.pkl\""
   ]
  },
  {
   "cell_type": "code",
   "execution_count": null,
   "metadata": {},
   "outputs": [],
   "source": [
    "figsize(6,4)\n",
    "colors_for_this = [\"#666666\",\"#004C70\",\"#0093D1\",\"#F2635F\",\"#F4D00C\",\"#E0A025\",\"k\"]\n",
    "\n",
    "for i, plano in enumerate(['b','c','d','e']):\n",
    "    x = 3/2. * 1./answers['k/Q']\n",
    "    plot(x, answers[plano +'time'] /1e9, color=colors_for_this[i], linewidth = 2, label=plano)\n",
    "    fill_between(np.append(x.values, 10000), np.append((answers[plano +'time'].fillna(10e9).values/1e9),10), color= colors_for_this[i], alpha=0.03)\n",
    "\n",
    "ytimes = np.linspace(0,9)\n",
    "pap_est = 1.2*10**3*(ytimes/5)\n",
    "fill_between(np.append(pap_est, 10000), np.append(ytimes,10), color= '#458B00', alpha=0.08)\n",
    "plot(pap_est, ytimes, '#3B5323', linewidth=1.4,linestyle=\":\", alpha=0.6)\n",
    "hlines(7.6, 0, 5000, 'SlateGrey', linestyle=\":\")\n",
    "xscale('log')\n",
    "xlim(1, 5e3)\n",
    "ylim(0.1, 8)\n",
    "xticks(fontsize=14)\n",
    "yticks(fontsize=14)\n",
    "xlabel(\"$Q' = 3 Q / (2 k_{2})$\", fontsize=17)\n",
    "ylabel(\"$t_{ecc, damp}$ (Gyr)\", fontsize=17)\n",
    "\n",
    "\n",
    "# the arrows are added manually at the intersection point between curve and 7.6 Gyr line\n",
    "\n",
    "\n",
    "endt = [600, 125, 54, 3] # initial guesses\n",
    "for i, plano in enumerate(['b','c','d','e']):\n",
    "    x = 3/2. * 1./answers['k/Q']\n",
    "    y = scipy.interpolate.interp1d(x, answers[plano +'time']/1e9)\n",
    "    xtest = np.linspace(1,endt[i], 5000)\n",
    "    ynew = y(xtest)\n",
    "    plot(xtest[np.argmin(np.abs(ynew - 7.6))], 7.6, marker ='>', color=colors_for_this[i],markersize = 10,)\n",
    "    \n",
    "text(2000, 5.5,\"Constraint from \\nPapaloizou et al. 2018\", color = '#3B5323', fontsize=14, rotation=90)  \n",
    "legend(fontsize= 15, loc='lower center')\n",
    "  \n",
    "savefig(paperFigures + \"timescale_plot_t1.pdf\",  dpi=150, bbox_inches = 'tight')"
   ]
  },
  {
   "cell_type": "markdown",
   "metadata": {},
   "source": [
    "# Make TRAPPIST array ready to print to put in the paper\n",
    "We have computed the mass loss rate due to the measured UV and extrapolated XUV flux. Now, we want to print a table of these values for the paper. We will also put the planetary properties in desired units."
   ]
  },
  {
   "cell_type": "code",
   "execution_count": null,
   "metadata": {},
   "outputs": [],
   "source": [
    "print_cols = ['Planet', 'Period(days)','Radius(Rearth)', 'Mass(Mearth)', 'e', 'XUV_flux(erg,cm-2,s-1)', \n",
    "              u'mass_loss(g/s)','mass_loss(mearth/Gyr)'] # these will go in paper, in order\n",
    "trappist1['mass_loss(mearth/Gyr)'] = trappist1['mass_loss(g/s)'] * 5.2804674*10**(-21.) * 1.0e9# Earth masses per year * gyr/ yr\n",
    "trappist1.sort_values('Period(days)')[print_cols].to_latex(index = False)"
   ]
  },
  {
   "cell_type": "code",
   "execution_count": null,
   "metadata": {},
   "outputs": [],
   "source": [
    "trappist1.to_csv(assorteddata + \"TRAPPIST_derived.csv\")"
   ]
  },
  {
   "cell_type": "code",
   "execution_count": null,
   "metadata": {},
   "outputs": [],
   "source": [
    "# Luminosity evolution: BHC 2015\n",
    "figsize(6,4)\n",
    "namez = ['M/Ms','log t(yr)','Teff','L/Ls','g','R/Rs','Log(Li/Li0)','log Tc','log ROc', 'Mrad', 'Rrad', 'k2conv', 'k2rad']\n",
    "model = pd.read_csv(assorteddata + \"BHAC15_tracks+structure.txt\", dtype ='float',names = namez, skiprows=50, delim_whitespace=True)\n",
    "idx = (model['M/Ms'] == 0.0900)\n",
    "# L/Ls: log luminosity in units of solar luminosity (value used Ls=3.839d+33)\n",
    "plot(np.power(10,model.loc[idx]['log t(yr)'].values) / 1e9, np.power(10,model.loc[idx]['L/Ls']),\n",
    "     linewidth = 3, label = \"BHC 2015 Model\")\n",
    "xlabel(\"Time (Gyr)\", fontsize=17)\n",
    "ylabel(\"$L_{bol}$ / L${\\odot}$\", fontsize=17)\n",
    "xticks(fontsize=14)\n",
    "yticks(fontsize=14)\n",
    "plot(7.6, trappist_lum, markersize = 15, color = \"Red\", linestyle='None',marker=\"*\", label=\"TRAPPIST-1\")\n",
    "yscale('log')\n",
    "xscale(\"log\")\n",
    "legend()\n",
    "title(\"Baraffe 2015, M = 0.09 Msun\", fontsize=17)\n",
    "title(\"0.09 M$_{\\odot}$ Stellar Evolution\", fontsize = 17)\n",
    "savefig(extraFigures + \"BHAC_stellarmodel.pdf\",  dpi=150, bbox_inches = 'tight')"
   ]
  },
  {
   "cell_type": "markdown",
   "metadata": {},
   "source": [
    "# Plot results from [VPlanet](https://github.com/VirtualPlanetaryLaboratory/vplanet) runs. \n",
    "We know ocean retention will depend on the XUV flux. \n",
    "To test how our derived XUV luminosity ratio affects the ocean evolution, we will run two integrations with VPlanet. We will also try running integrations with different values of Q, to see if that matters.\n",
    "\n",
    "TODO: check d's habitable lcoation - why does it turn off?"
   ]
  },
  {
   "cell_type": "code",
   "execution_count": null,
   "metadata": {},
   "outputs": [],
   "source": [
    "planets = ['b','c','d','e','f','g','h']\n",
    "namz = ['Time','SurfWaterMass','OxygenMass','EnvelopeMass','ScaleHeight','SemiMajorAxis','DeccDtEqtide','EccTimeEqtide','EnvTidalQ','EnvK2']\n",
    "figsize(6,4)\n",
    "for i, planet in enumerate(planets):\n",
    "    file_loc = current_dir + \"VPlanetRuns/Results/run9/trappist1.%s.forward\" % planet\n",
    "    data = pd.read_csv(file_loc, names = namz, delim_whitespace=True)\n",
    "    plot(data['Time'], data['SurfWaterMass'] / data['SurfWaterMass'].values[0], label='_nolegend_', linewidth = 4, alpha=0.3, c = colors_for_this[i])\n",
    "    plot(data['Time'], data['SurfWaterMass'] / data['SurfWaterMass'].values[0], label=planet, linewidth = 2, c = colors_for_this[i])\n",
    "xscale(\"log\")\n",
    "legend(fontsize=12, loc='upper left')\n",
    "xlabel(\"Time (years)\", fontsize=17)\n",
    "ylabel(\"Fractional Ocean Retention\", fontsize=17)\n",
    "yticks(fontsize=14)\n",
    "xticks(fontsize=14)\n",
    "ylim(0,1)\n",
    "annotate(\"$L_{XUV} = 3 \\cdot 10^{-4}$ L$_{bol}$\\n$Q'$ = 600\", (1e6, 0.05), fontsize = 14)\n",
    "savefig(paperFigures + \"trappist_water_midQ_trueLXUV.pdf\", dpi=150, bbox_inches = 'tight')\n"
   ]
  },
  {
   "cell_type": "code",
   "execution_count": null,
   "metadata": {},
   "outputs": [],
   "source": [
    "planets = ['b','c','d','e','f','g','h']\n",
    "namz = ['Time','SurfWaterMass','OxygenMass','EnvelopeMass','ScaleHeight','SemiMajorAxis','DeccDtEqtide','EccTimeEqtide','EnvTidalQ','EnvK2']\n",
    "figsize(6,4)\n",
    "for i, planet in enumerate(planets):\n",
    "    file_loc = current_dir + \"VPlanetRuns/Results/run8/trappist1.%s.forward\" % planet\n",
    "    data = pd.read_csv(file_loc, names = namz, delim_whitespace=True)\n",
    "    plot(data['Time'], data['SurfWaterMass'] / data['SurfWaterMass'].values[0], label='_nolegend_', linewidth = 4, alpha=0.3, c = colors_for_this[i])\n",
    "    plot(data['Time'], data['SurfWaterMass'] / data['SurfWaterMass'].values[0], label=planet, linewidth = 2, c = colors_for_this[i])\n",
    "xscale(\"log\")\n",
    "legend(fontsize=12, loc='upper left')\n",
    "xlabel(\"Time (years)\", fontsize=17)\n",
    "ylabel(\"Fractional Ocean Retention\", fontsize=17)\n",
    "yticks(fontsize=14)\n",
    "xticks(fontsize=14)\n",
    "ylim(0,1)\n",
    "annotate(\"$L_{XUV} = 1 \\cdot 10^{-4}$ L$_{bol}$\\n$Q'$ = 600\", (1e6, 0.05), fontsize = 14)\n",
    "savefig(extraFigures + \"trappist_water_midQ_lowLXUV.pdf\", dpi=150, bbox_inches = 'tight')\n"
   ]
  },
  {
   "cell_type": "markdown",
   "metadata": {},
   "source": [
    "So only inner two planets would lose their oceans, instead of three, were TRAPPIST-1 more typical. There are additional factors to consider (such as replenishing water from the mantle, or the fact that VPlanet 'turns off' water loss rather than allowing it to continue once planet reaches habitable zone, or that you can define the habitable zone in different ways), so we do not make any claims about the true ocean rentention on these planets - only that Planer d is in a grey zone. "
   ]
  },
  {
   "cell_type": "code",
   "execution_count": null,
   "metadata": {},
   "outputs": [],
   "source": [
    "for i, planet in enumerate(planets):\n",
    "    file_loc = current_dir + \"VPlanetRuns/Results/run5/trappist1.%s.forward\" % planet\n",
    "    data = pd.read_csv(file_loc, names = namz, delim_whitespace=True)\n",
    "    plot(data['Time'], data['SurfWaterMass'] / data['SurfWaterMass'].values[0], label='_nolegend_', linewidth = 4, alpha=0.3, c = colors_for_this[i])\n",
    "    plot(data['Time'], data['SurfWaterMass'] / data['SurfWaterMass'].values[0], label=planet, linewidth = 2, c = colors_for_this[i])\n",
    "xscale(\"log\")\n",
    "legend(fontsize=12, loc='upper left')\n",
    "xlabel(\"Time (years)\", fontsize=17)\n",
    "ylabel(\"Fractional Ocean Retention\", fontsize=17)\n",
    "yticks(fontsize=14)\n",
    "xticks(fontsize=14)\n",
    "ylim(0,1)\n",
    "annotate(\"$L_{XUV} = 8 \\cdot 10^{-4}$ L$_{bol}$\\n$Q'$ = 600\", (1e6, 0.05), fontsize = 14)\n",
    "savefig(extraFigures + \"trappist_water_midQ_highLXUV.pdf\", dpi=150, bbox_inches = 'tight')\n"
   ]
  },
  {
   "cell_type": "code",
   "execution_count": null,
   "metadata": {},
   "outputs": [],
   "source": []
  },
  {
   "cell_type": "code",
   "execution_count": null,
   "metadata": {},
   "outputs": [],
   "source": [
    "import rebound"
   ]
  },
  {
   "cell_type": "code",
   "execution_count": null,
   "metadata": {},
   "outputs": [],
   "source": [
    "sim = rebound.Simulation()\n",
    "sim.add(m=1, hash = 'sun')\n",
    "sim.add(m=0.01, a =1, hash = 'planet1')\n",
    "sim.add(m=0.01, a =5, hash = 'planet2')"
   ]
  },
  {
   "cell_type": "code",
   "execution_count": null,
   "metadata": {},
   "outputs": [],
   "source": [
    "sim.particles[\"sun\"]"
   ]
  },
  {
   "cell_type": "code",
   "execution_count": null,
   "metadata": {},
   "outputs": [],
   "source": [
    "res = rebound.OrbitPlot(sim)"
   ]
  },
  {
   "cell_type": "code",
   "execution_count": null,
   "metadata": {},
   "outputs": [],
   "source": [
    "sim.integrate(11)"
   ]
  },
  {
   "cell_type": "code",
   "execution_count": null,
   "metadata": {},
   "outputs": [],
   "source": [
    "res = rebound.OrbitPlot(sim)"
   ]
  },
  {
   "cell_type": "code",
   "execution_count": null,
   "metadata": {},
   "outputs": [],
   "source": []
  },
  {
   "cell_type": "code",
   "execution_count": null,
   "metadata": {},
   "outputs": [],
   "source": []
  }
 ],
 "metadata": {
  "kernelspec": {
   "display_name": "Python 2",
   "language": "python",
   "name": "python2"
  },
  "language_info": {
   "codemirror_mode": {
    "name": "ipython",
    "version": 2
   },
   "file_extension": ".py",
   "mimetype": "text/x-python",
   "name": "python",
   "nbconvert_exporter": "python",
   "pygments_lexer": "ipython2",
   "version": "2.7.13"
  }
 },
 "nbformat": 4,
 "nbformat_minor": 2
}
